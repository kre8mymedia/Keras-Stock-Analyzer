{
 "cells": [
  {
   "cell_type": "code",
   "execution_count": 83,
   "metadata": {},
   "outputs": [],
   "source": [
    "import numpy as np\n",
    "import matplotlib.pyplot as plt\n",
    "import pandas as pd\n",
    "from sklearn.preprocessing import MinMaxScaler"
   ]
  },
  {
   "cell_type": "code",
   "execution_count": 84,
   "metadata": {
    "scrolled": false
   },
   "outputs": [
    {
     "data": {
      "text/html": [
       "<div>\n",
       "<style scoped>\n",
       "    .dataframe tbody tr th:only-of-type {\n",
       "        vertical-align: middle;\n",
       "    }\n",
       "\n",
       "    .dataframe tbody tr th {\n",
       "        vertical-align: top;\n",
       "    }\n",
       "\n",
       "    .dataframe thead th {\n",
       "        text-align: right;\n",
       "    }\n",
       "</style>\n",
       "<table border=\"1\" class=\"dataframe\">\n",
       "  <thead>\n",
       "    <tr style=\"text-align: right;\">\n",
       "      <th></th>\n",
       "      <th>date</th>\n",
       "      <th>open</th>\n",
       "      <th>high</th>\n",
       "      <th>low</th>\n",
       "      <th>close</th>\n",
       "      <th>volume</th>\n",
       "      <th>adjclose</th>\n",
       "    </tr>\n",
       "  </thead>\n",
       "  <tbody>\n",
       "    <tr>\n",
       "      <th>8514</th>\n",
       "      <td>1986-03-19</td>\n",
       "      <td>0.099826</td>\n",
       "      <td>0.100694</td>\n",
       "      <td>0.097222</td>\n",
       "      <td>0.098090</td>\n",
       "      <td>47894400</td>\n",
       "      <td>0.063107</td>\n",
       "    </tr>\n",
       "    <tr>\n",
       "      <th>8515</th>\n",
       "      <td>1986-03-18</td>\n",
       "      <td>0.102431</td>\n",
       "      <td>0.103299</td>\n",
       "      <td>0.098958</td>\n",
       "      <td>0.099826</td>\n",
       "      <td>67766400</td>\n",
       "      <td>0.064224</td>\n",
       "    </tr>\n",
       "    <tr>\n",
       "      <th>8516</th>\n",
       "      <td>1986-03-17</td>\n",
       "      <td>0.100694</td>\n",
       "      <td>0.103299</td>\n",
       "      <td>0.100694</td>\n",
       "      <td>0.102431</td>\n",
       "      <td>133171200</td>\n",
       "      <td>0.065899</td>\n",
       "    </tr>\n",
       "    <tr>\n",
       "      <th>8517</th>\n",
       "      <td>1986-03-14</td>\n",
       "      <td>0.097222</td>\n",
       "      <td>0.102431</td>\n",
       "      <td>0.097222</td>\n",
       "      <td>0.100694</td>\n",
       "      <td>308160000</td>\n",
       "      <td>0.064783</td>\n",
       "    </tr>\n",
       "    <tr>\n",
       "      <th>8518</th>\n",
       "      <td>1986-03-13</td>\n",
       "      <td>0.088542</td>\n",
       "      <td>0.101562</td>\n",
       "      <td>0.088542</td>\n",
       "      <td>0.097222</td>\n",
       "      <td>1031788800</td>\n",
       "      <td>0.062549</td>\n",
       "    </tr>\n",
       "  </tbody>\n",
       "</table>\n",
       "</div>"
      ],
      "text/plain": [
       "            date      open      high       low     close      volume  adjclose\n",
       "8514  1986-03-19  0.099826  0.100694  0.097222  0.098090    47894400  0.063107\n",
       "8515  1986-03-18  0.102431  0.103299  0.098958  0.099826    67766400  0.064224\n",
       "8516  1986-03-17  0.100694  0.103299  0.100694  0.102431   133171200  0.065899\n",
       "8517  1986-03-14  0.097222  0.102431  0.097222  0.100694   308160000  0.064783\n",
       "8518  1986-03-13  0.088542  0.101562  0.088542  0.097222  1031788800  0.062549"
      ]
     },
     "execution_count": 84,
     "metadata": {},
     "output_type": "execute_result"
    }
   ],
   "source": [
    "stock_symbol = \"MSFT\"\n",
    "epoch_count = 10\n",
    "data = pd.read_csv('csv/' + str(stock_symbol) + '.timeseries.csv', date_parser = True)\n",
    "data.tail()"
   ]
  },
  {
   "cell_type": "code",
   "execution_count": 85,
   "metadata": {},
   "outputs": [
    {
     "data": {
      "text/html": [
       "<div>\n",
       "<style scoped>\n",
       "    .dataframe tbody tr th:only-of-type {\n",
       "        vertical-align: middle;\n",
       "    }\n",
       "\n",
       "    .dataframe tbody tr th {\n",
       "        vertical-align: top;\n",
       "    }\n",
       "\n",
       "    .dataframe thead th {\n",
       "        text-align: right;\n",
       "    }\n",
       "</style>\n",
       "<table border=\"1\" class=\"dataframe\">\n",
       "  <thead>\n",
       "    <tr style=\"text-align: right;\">\n",
       "      <th></th>\n",
       "      <th>date</th>\n",
       "      <th>open</th>\n",
       "      <th>high</th>\n",
       "      <th>low</th>\n",
       "      <th>close</th>\n",
       "      <th>volume</th>\n",
       "      <th>adjclose</th>\n",
       "    </tr>\n",
       "  </thead>\n",
       "  <tbody>\n",
       "    <tr>\n",
       "      <th>8518</th>\n",
       "      <td>1986-03-13</td>\n",
       "      <td>0.088542</td>\n",
       "      <td>0.101562</td>\n",
       "      <td>0.088542</td>\n",
       "      <td>0.097222</td>\n",
       "      <td>1031788800</td>\n",
       "      <td>0.062549</td>\n",
       "    </tr>\n",
       "    <tr>\n",
       "      <th>8517</th>\n",
       "      <td>1986-03-14</td>\n",
       "      <td>0.097222</td>\n",
       "      <td>0.102431</td>\n",
       "      <td>0.097222</td>\n",
       "      <td>0.100694</td>\n",
       "      <td>308160000</td>\n",
       "      <td>0.064783</td>\n",
       "    </tr>\n",
       "    <tr>\n",
       "      <th>8516</th>\n",
       "      <td>1986-03-17</td>\n",
       "      <td>0.100694</td>\n",
       "      <td>0.103299</td>\n",
       "      <td>0.100694</td>\n",
       "      <td>0.102431</td>\n",
       "      <td>133171200</td>\n",
       "      <td>0.065899</td>\n",
       "    </tr>\n",
       "    <tr>\n",
       "      <th>8515</th>\n",
       "      <td>1986-03-18</td>\n",
       "      <td>0.102431</td>\n",
       "      <td>0.103299</td>\n",
       "      <td>0.098958</td>\n",
       "      <td>0.099826</td>\n",
       "      <td>67766400</td>\n",
       "      <td>0.064224</td>\n",
       "    </tr>\n",
       "    <tr>\n",
       "      <th>8514</th>\n",
       "      <td>1986-03-19</td>\n",
       "      <td>0.099826</td>\n",
       "      <td>0.100694</td>\n",
       "      <td>0.097222</td>\n",
       "      <td>0.098090</td>\n",
       "      <td>47894400</td>\n",
       "      <td>0.063107</td>\n",
       "    </tr>\n",
       "    <tr>\n",
       "      <th>...</th>\n",
       "      <td>...</td>\n",
       "      <td>...</td>\n",
       "      <td>...</td>\n",
       "      <td>...</td>\n",
       "      <td>...</td>\n",
       "      <td>...</td>\n",
       "      <td>...</td>\n",
       "    </tr>\n",
       "    <tr>\n",
       "      <th>254</th>\n",
       "      <td>2018-12-24</td>\n",
       "      <td>97.680000</td>\n",
       "      <td>97.970001</td>\n",
       "      <td>93.980003</td>\n",
       "      <td>94.129997</td>\n",
       "      <td>43935200</td>\n",
       "      <td>92.758461</td>\n",
       "    </tr>\n",
       "    <tr>\n",
       "      <th>253</th>\n",
       "      <td>2018-12-26</td>\n",
       "      <td>95.139999</td>\n",
       "      <td>100.690002</td>\n",
       "      <td>93.959999</td>\n",
       "      <td>100.559998</td>\n",
       "      <td>51634800</td>\n",
       "      <td>99.094772</td>\n",
       "    </tr>\n",
       "    <tr>\n",
       "      <th>252</th>\n",
       "      <td>2018-12-27</td>\n",
       "      <td>99.300003</td>\n",
       "      <td>101.190002</td>\n",
       "      <td>96.400002</td>\n",
       "      <td>101.180000</td>\n",
       "      <td>49498500</td>\n",
       "      <td>99.705742</td>\n",
       "    </tr>\n",
       "    <tr>\n",
       "      <th>251</th>\n",
       "      <td>2018-12-28</td>\n",
       "      <td>102.089996</td>\n",
       "      <td>102.410004</td>\n",
       "      <td>99.519997</td>\n",
       "      <td>100.389999</td>\n",
       "      <td>38196300</td>\n",
       "      <td>98.927246</td>\n",
       "    </tr>\n",
       "    <tr>\n",
       "      <th>250</th>\n",
       "      <td>2018-12-31</td>\n",
       "      <td>101.290001</td>\n",
       "      <td>102.400002</td>\n",
       "      <td>100.440002</td>\n",
       "      <td>101.570000</td>\n",
       "      <td>33173800</td>\n",
       "      <td>100.090057</td>\n",
       "    </tr>\n",
       "  </tbody>\n",
       "</table>\n",
       "<p>8269 rows × 7 columns</p>\n",
       "</div>"
      ],
      "text/plain": [
       "            date        open        high         low       close      volume  \\\n",
       "8518  1986-03-13    0.088542    0.101562    0.088542    0.097222  1031788800   \n",
       "8517  1986-03-14    0.097222    0.102431    0.097222    0.100694   308160000   \n",
       "8516  1986-03-17    0.100694    0.103299    0.100694    0.102431   133171200   \n",
       "8515  1986-03-18    0.102431    0.103299    0.098958    0.099826    67766400   \n",
       "8514  1986-03-19    0.099826    0.100694    0.097222    0.098090    47894400   \n",
       "...          ...         ...         ...         ...         ...         ...   \n",
       "254   2018-12-24   97.680000   97.970001   93.980003   94.129997    43935200   \n",
       "253   2018-12-26   95.139999  100.690002   93.959999  100.559998    51634800   \n",
       "252   2018-12-27   99.300003  101.190002   96.400002  101.180000    49498500   \n",
       "251   2018-12-28  102.089996  102.410004   99.519997  100.389999    38196300   \n",
       "250   2018-12-31  101.290001  102.400002  100.440002  101.570000    33173800   \n",
       "\n",
       "        adjclose  \n",
       "8518    0.062549  \n",
       "8517    0.064783  \n",
       "8516    0.065899  \n",
       "8515    0.064224  \n",
       "8514    0.063107  \n",
       "...          ...  \n",
       "254    92.758461  \n",
       "253    99.094772  \n",
       "252    99.705742  \n",
       "251    98.927246  \n",
       "250   100.090057  \n",
       "\n",
       "[8269 rows x 7 columns]"
      ]
     },
     "execution_count": 85,
     "metadata": {},
     "output_type": "execute_result"
    }
   ],
   "source": [
    "data_training = data[data['date'] < '2019-01-01'].sort_values(by='date', ascending=True).copy()\n",
    "data_training"
   ]
  },
  {
   "cell_type": "code",
   "execution_count": 86,
   "metadata": {},
   "outputs": [
    {
     "data": {
      "text/html": [
       "<div>\n",
       "<style scoped>\n",
       "    .dataframe tbody tr th:only-of-type {\n",
       "        vertical-align: middle;\n",
       "    }\n",
       "\n",
       "    .dataframe tbody tr th {\n",
       "        vertical-align: top;\n",
       "    }\n",
       "\n",
       "    .dataframe thead th {\n",
       "        text-align: right;\n",
       "    }\n",
       "</style>\n",
       "<table border=\"1\" class=\"dataframe\">\n",
       "  <thead>\n",
       "    <tr style=\"text-align: right;\">\n",
       "      <th></th>\n",
       "      <th>date</th>\n",
       "      <th>open</th>\n",
       "      <th>high</th>\n",
       "      <th>low</th>\n",
       "      <th>close</th>\n",
       "      <th>volume</th>\n",
       "      <th>adjclose</th>\n",
       "    </tr>\n",
       "  </thead>\n",
       "  <tbody>\n",
       "    <tr>\n",
       "      <th>249</th>\n",
       "      <td>2019-01-02</td>\n",
       "      <td>99.550003</td>\n",
       "      <td>101.750000</td>\n",
       "      <td>98.940002</td>\n",
       "      <td>101.120003</td>\n",
       "      <td>35329300</td>\n",
       "      <td>99.646614</td>\n",
       "    </tr>\n",
       "    <tr>\n",
       "      <th>248</th>\n",
       "      <td>2019-01-03</td>\n",
       "      <td>100.099998</td>\n",
       "      <td>100.190002</td>\n",
       "      <td>97.199997</td>\n",
       "      <td>97.400002</td>\n",
       "      <td>42579100</td>\n",
       "      <td>95.980820</td>\n",
       "    </tr>\n",
       "    <tr>\n",
       "      <th>247</th>\n",
       "      <td>2019-01-04</td>\n",
       "      <td>99.720001</td>\n",
       "      <td>102.510002</td>\n",
       "      <td>98.930000</td>\n",
       "      <td>101.930000</td>\n",
       "      <td>44060600</td>\n",
       "      <td>100.444817</td>\n",
       "    </tr>\n",
       "    <tr>\n",
       "      <th>246</th>\n",
       "      <td>2019-01-07</td>\n",
       "      <td>101.639999</td>\n",
       "      <td>103.269997</td>\n",
       "      <td>100.980003</td>\n",
       "      <td>102.059998</td>\n",
       "      <td>35656100</td>\n",
       "      <td>100.572922</td>\n",
       "    </tr>\n",
       "    <tr>\n",
       "      <th>245</th>\n",
       "      <td>2019-01-08</td>\n",
       "      <td>103.040001</td>\n",
       "      <td>103.970001</td>\n",
       "      <td>101.709999</td>\n",
       "      <td>102.800003</td>\n",
       "      <td>31514400</td>\n",
       "      <td>101.302139</td>\n",
       "    </tr>\n",
       "    <tr>\n",
       "      <th>...</th>\n",
       "      <td>...</td>\n",
       "      <td>...</td>\n",
       "      <td>...</td>\n",
       "      <td>...</td>\n",
       "      <td>...</td>\n",
       "      <td>...</td>\n",
       "      <td>...</td>\n",
       "    </tr>\n",
       "    <tr>\n",
       "      <th>4</th>\n",
       "      <td>2019-12-20</td>\n",
       "      <td>157.350006</td>\n",
       "      <td>158.490005</td>\n",
       "      <td>156.289993</td>\n",
       "      <td>157.410004</td>\n",
       "      <td>53477500</td>\n",
       "      <td>157.410004</td>\n",
       "    </tr>\n",
       "    <tr>\n",
       "      <th>3</th>\n",
       "      <td>2019-12-23</td>\n",
       "      <td>158.119995</td>\n",
       "      <td>158.119995</td>\n",
       "      <td>157.270004</td>\n",
       "      <td>157.410004</td>\n",
       "      <td>17718200</td>\n",
       "      <td>157.410004</td>\n",
       "    </tr>\n",
       "    <tr>\n",
       "      <th>2</th>\n",
       "      <td>2019-12-24</td>\n",
       "      <td>157.479996</td>\n",
       "      <td>157.710007</td>\n",
       "      <td>157.119995</td>\n",
       "      <td>157.380005</td>\n",
       "      <td>8989200</td>\n",
       "      <td>157.380005</td>\n",
       "    </tr>\n",
       "    <tr>\n",
       "      <th>1</th>\n",
       "      <td>2019-12-26</td>\n",
       "      <td>157.559998</td>\n",
       "      <td>158.729996</td>\n",
       "      <td>157.399994</td>\n",
       "      <td>158.669998</td>\n",
       "      <td>14520600</td>\n",
       "      <td>158.669998</td>\n",
       "    </tr>\n",
       "    <tr>\n",
       "      <th>0</th>\n",
       "      <td>2019-12-27</td>\n",
       "      <td>159.449997</td>\n",
       "      <td>159.550003</td>\n",
       "      <td>158.220001</td>\n",
       "      <td>158.960007</td>\n",
       "      <td>18412800</td>\n",
       "      <td>158.960007</td>\n",
       "    </tr>\n",
       "  </tbody>\n",
       "</table>\n",
       "<p>250 rows × 7 columns</p>\n",
       "</div>"
      ],
      "text/plain": [
       "           date        open        high         low       close    volume  \\\n",
       "249  2019-01-02   99.550003  101.750000   98.940002  101.120003  35329300   \n",
       "248  2019-01-03  100.099998  100.190002   97.199997   97.400002  42579100   \n",
       "247  2019-01-04   99.720001  102.510002   98.930000  101.930000  44060600   \n",
       "246  2019-01-07  101.639999  103.269997  100.980003  102.059998  35656100   \n",
       "245  2019-01-08  103.040001  103.970001  101.709999  102.800003  31514400   \n",
       "..          ...         ...         ...         ...         ...       ...   \n",
       "4    2019-12-20  157.350006  158.490005  156.289993  157.410004  53477500   \n",
       "3    2019-12-23  158.119995  158.119995  157.270004  157.410004  17718200   \n",
       "2    2019-12-24  157.479996  157.710007  157.119995  157.380005   8989200   \n",
       "1    2019-12-26  157.559998  158.729996  157.399994  158.669998  14520600   \n",
       "0    2019-12-27  159.449997  159.550003  158.220001  158.960007  18412800   \n",
       "\n",
       "       adjclose  \n",
       "249   99.646614  \n",
       "248   95.980820  \n",
       "247  100.444817  \n",
       "246  100.572922  \n",
       "245  101.302139  \n",
       "..          ...  \n",
       "4    157.410004  \n",
       "3    157.410004  \n",
       "2    157.380005  \n",
       "1    158.669998  \n",
       "0    158.960007  \n",
       "\n",
       "[250 rows x 7 columns]"
      ]
     },
     "execution_count": 86,
     "metadata": {},
     "output_type": "execute_result"
    }
   ],
   "source": [
    "data_test = data[data['date'] >= '2019-01-01'].sort_values(by='date', ascending=True).copy()\n",
    "data_test"
   ]
  },
  {
   "cell_type": "code",
   "execution_count": 87,
   "metadata": {},
   "outputs": [
    {
     "data": {
      "text/html": [
       "<div>\n",
       "<style scoped>\n",
       "    .dataframe tbody tr th:only-of-type {\n",
       "        vertical-align: middle;\n",
       "    }\n",
       "\n",
       "    .dataframe tbody tr th {\n",
       "        vertical-align: top;\n",
       "    }\n",
       "\n",
       "    .dataframe thead th {\n",
       "        text-align: right;\n",
       "    }\n",
       "</style>\n",
       "<table border=\"1\" class=\"dataframe\">\n",
       "  <thead>\n",
       "    <tr style=\"text-align: right;\">\n",
       "      <th></th>\n",
       "      <th>open</th>\n",
       "      <th>high</th>\n",
       "      <th>low</th>\n",
       "      <th>close</th>\n",
       "      <th>volume</th>\n",
       "    </tr>\n",
       "  </thead>\n",
       "  <tbody>\n",
       "    <tr>\n",
       "      <th>8518</th>\n",
       "      <td>0.088542</td>\n",
       "      <td>0.101562</td>\n",
       "      <td>0.088542</td>\n",
       "      <td>0.097222</td>\n",
       "      <td>1031788800</td>\n",
       "    </tr>\n",
       "    <tr>\n",
       "      <th>8517</th>\n",
       "      <td>0.097222</td>\n",
       "      <td>0.102431</td>\n",
       "      <td>0.097222</td>\n",
       "      <td>0.100694</td>\n",
       "      <td>308160000</td>\n",
       "    </tr>\n",
       "    <tr>\n",
       "      <th>8516</th>\n",
       "      <td>0.100694</td>\n",
       "      <td>0.103299</td>\n",
       "      <td>0.100694</td>\n",
       "      <td>0.102431</td>\n",
       "      <td>133171200</td>\n",
       "    </tr>\n",
       "    <tr>\n",
       "      <th>8515</th>\n",
       "      <td>0.102431</td>\n",
       "      <td>0.103299</td>\n",
       "      <td>0.098958</td>\n",
       "      <td>0.099826</td>\n",
       "      <td>67766400</td>\n",
       "    </tr>\n",
       "    <tr>\n",
       "      <th>8514</th>\n",
       "      <td>0.099826</td>\n",
       "      <td>0.100694</td>\n",
       "      <td>0.097222</td>\n",
       "      <td>0.098090</td>\n",
       "      <td>47894400</td>\n",
       "    </tr>\n",
       "  </tbody>\n",
       "</table>\n",
       "</div>"
      ],
      "text/plain": [
       "          open      high       low     close      volume\n",
       "8518  0.088542  0.101562  0.088542  0.097222  1031788800\n",
       "8517  0.097222  0.102431  0.097222  0.100694   308160000\n",
       "8516  0.100694  0.103299  0.100694  0.102431   133171200\n",
       "8515  0.102431  0.103299  0.098958  0.099826    67766400\n",
       "8514  0.099826  0.100694  0.097222  0.098090    47894400"
      ]
     },
     "execution_count": 87,
     "metadata": {},
     "output_type": "execute_result"
    }
   ],
   "source": [
    "training_data = data_training.drop(['date', 'adjclose'], axis = 1)\n",
    "training_data.head()"
   ]
  },
  {
   "cell_type": "code",
   "execution_count": 88,
   "metadata": {},
   "outputs": [
    {
     "data": {
      "text/plain": [
       "array([[0.00000000e+00, 8.22532308e-05, 0.00000000e+00, 6.01148236e-05,\n",
       "        1.00000000e+00],\n",
       "       [7.52661933e-05, 8.97307681e-05, 7.55873340e-05, 9.01722353e-05,\n",
       "        2.97096179e-01],\n",
       "       [1.05372671e-04, 9.72083695e-05, 1.05822268e-04, 1.05200877e-04,\n",
       "        1.27119118e-01],\n",
       "       ...,\n",
       "       [8.60228982e-01, 8.70873823e-01, 8.38647131e-01, 8.75086263e-01,\n",
       "        4.58428332e-02],\n",
       "       [8.84420069e-01, 8.81383104e-01, 8.65814978e-01, 8.68247596e-01,\n",
       "        3.48643321e-02],\n",
       "       [8.77483579e-01, 8.81296944e-01, 8.73826073e-01, 8.78462304e-01,\n",
       "        2.99856783e-02]])"
      ]
     },
     "execution_count": 88,
     "metadata": {},
     "output_type": "execute_result"
    }
   ],
   "source": [
    "scaler = MinMaxScaler()\n",
    "training_data = scaler.fit_transform(training_data)\n",
    "training_data"
   ]
  },
  {
   "cell_type": "code",
   "execution_count": 89,
   "metadata": {},
   "outputs": [],
   "source": [
    "x_train = []\n",
    "y_train = []"
   ]
  },
  {
   "cell_type": "code",
   "execution_count": 90,
   "metadata": {},
   "outputs": [
    {
     "data": {
      "text/plain": [
       "8269"
      ]
     },
     "execution_count": 90,
     "metadata": {},
     "output_type": "execute_result"
    }
   ],
   "source": [
    "training_data.shape[0]"
   ]
  },
  {
   "cell_type": "code",
   "execution_count": 91,
   "metadata": {},
   "outputs": [],
   "source": [
    "for i in range(60, training_data.shape[0]):\n",
    "    x_train.append(training_data[i-60:i])\n",
    "    y_train.append(training_data[i, 0])"
   ]
  },
  {
   "cell_type": "code",
   "execution_count": 92,
   "metadata": {},
   "outputs": [],
   "source": [
    "x_train, y_train = np.array(x_train), np.array(y_train)"
   ]
  },
  {
   "cell_type": "code",
   "execution_count": 93,
   "metadata": {},
   "outputs": [
    {
     "data": {
      "text/plain": [
       "((8209, 60, 5), (8209,))"
      ]
     },
     "execution_count": 93,
     "metadata": {},
     "output_type": "execute_result"
    }
   ],
   "source": [
    "x_train.shape, y_train.shape"
   ]
  },
  {
   "cell_type": "code",
   "execution_count": 94,
   "metadata": {},
   "outputs": [],
   "source": [
    "### Building LSTM"
   ]
  },
  {
   "cell_type": "code",
   "execution_count": 95,
   "metadata": {},
   "outputs": [],
   "source": [
    "from tensorflow.keras import Sequential\n",
    "from tensorflow.keras.layers import Dense, LSTM, Dropout"
   ]
  },
  {
   "cell_type": "code",
   "execution_count": 96,
   "metadata": {},
   "outputs": [],
   "source": [
    "regressior = Sequential()\n",
    "\n",
    "regressior.add(LSTM(units = 60, activation = 'relu', return_sequences = True, input_shape = (x_train.shape[1], 5)))\n",
    "regressior.add(Dropout(0.2))\n",
    "               \n",
    "regressior.add(LSTM(units = 60, activation = 'relu', return_sequences = True))\n",
    "regressior.add(Dropout(0.2))\n",
    "\n",
    "regressior.add(LSTM(units = 80, activation = 'relu', return_sequences = True))\n",
    "regressior.add(Dropout(0.2))\n",
    "\n",
    "regressior.add(LSTM(units = 100, activation = 'relu', return_sequences = True))\n",
    "regressior.add(Dropout(0.2))\n",
    "\n",
    "regressior.add(LSTM(units = 120, activation = 'relu'))\n",
    "regressior.add(Dropout(0.2))\n",
    "\n",
    "regressior.add(Dense(units = 1))"
   ]
  },
  {
   "cell_type": "code",
   "execution_count": 97,
   "metadata": {},
   "outputs": [
    {
     "name": "stdout",
     "output_type": "stream",
     "text": [
      "Model: \"sequential_3\"\n",
      "_________________________________________________________________\n",
      "Layer (type)                 Output Shape              Param #   \n",
      "=================================================================\n",
      "unified_lstm_15 (UnifiedLSTM (None, 60, 60)            15840     \n",
      "_________________________________________________________________\n",
      "dropout_15 (Dropout)         (None, 60, 60)            0         \n",
      "_________________________________________________________________\n",
      "unified_lstm_16 (UnifiedLSTM (None, 60, 60)            29040     \n",
      "_________________________________________________________________\n",
      "dropout_16 (Dropout)         (None, 60, 60)            0         \n",
      "_________________________________________________________________\n",
      "unified_lstm_17 (UnifiedLSTM (None, 60, 80)            45120     \n",
      "_________________________________________________________________\n",
      "dropout_17 (Dropout)         (None, 60, 80)            0         \n",
      "_________________________________________________________________\n",
      "unified_lstm_18 (UnifiedLSTM (None, 60, 100)           72400     \n",
      "_________________________________________________________________\n",
      "dropout_18 (Dropout)         (None, 60, 100)           0         \n",
      "_________________________________________________________________\n",
      "unified_lstm_19 (UnifiedLSTM (None, 120)               106080    \n",
      "_________________________________________________________________\n",
      "dropout_19 (Dropout)         (None, 120)               0         \n",
      "_________________________________________________________________\n",
      "dense_3 (Dense)              (None, 1)                 121       \n",
      "=================================================================\n",
      "Total params: 268,601\n",
      "Trainable params: 268,601\n",
      "Non-trainable params: 0\n",
      "_________________________________________________________________\n"
     ]
    }
   ],
   "source": [
    "regressior.summary()"
   ]
  },
  {
   "cell_type": "code",
   "execution_count": 98,
   "metadata": {},
   "outputs": [],
   "source": [
    "regressior.compile(optimizer='sgd', metrics=['mae', 'acc', 'mae'], loss = 'mean_squared_error')"
   ]
  },
  {
   "cell_type": "raw",
   "metadata": {},
   "source": []
  },
  {
   "cell_type": "code",
   "execution_count": null,
   "metadata": {},
   "outputs": [
    {
     "name": "stdout",
     "output_type": "stream",
     "text": [
      "Epoch 1/10\n",
      "8209/8209 [==============================] - 137s 17ms/sample - loss: 0.0569 - mae: 0.1769 - acc: 0.0000e+00\n",
      "Epoch 2/10\n",
      "8209/8209 [==============================] - 131s 16ms/sample - loss: 0.0391 - mae: 0.1464 - acc: 0.0000e+00\n",
      "Epoch 3/10\n",
      "8209/8209 [==============================] - 141s 17ms/sample - loss: 0.0368 - mae: 0.1390 - acc: 0.0000e+00\n",
      "Epoch 4/10\n",
      "8209/8209 [==============================] - 138s 17ms/sample - loss: 0.0362 - mae: 0.1369 - acc: 0.0000e+00\n",
      "Epoch 5/10\n",
      "8209/8209 [==============================] - 140s 17ms/sample - loss: 0.0359 - mae: 0.1361 - acc: 0.0000e+00\n",
      "Epoch 6/10\n",
      "8209/8209 [==============================] - 140s 17ms/sample - loss: 0.0357 - mae: 0.1355 - acc: 0.0000e+00\n",
      "Epoch 7/10\n",
      "8209/8209 [==============================] - 136s 17ms/sample - loss: 0.0356 - mae: 0.1354 - acc: 0.0000e+00\n",
      "Epoch 8/10\n",
      "8209/8209 [==============================] - 141s 17ms/sample - loss: 0.0354 - mae: 0.1349 - acc: 0.0000e+00\n",
      "Epoch 9/10\n",
      "8209/8209 [==============================] - 141s 17ms/sample - loss: 0.0352 - mae: 0.1345 - acc: 0.0000e+00\n",
      "Epoch 10/10\n",
      "4768/8209 [================>.............] - ETA: 58s - loss: 0.0346 - mae: 0.1337 - acc: 0.0000e+00"
     ]
    }
   ],
   "source": [
    "regressior.fit(x_train, y_train, epochs=epoch_count, batch_size=32)"
   ]
  },
  {
   "cell_type": "code",
   "execution_count": null,
   "metadata": {},
   "outputs": [],
   "source": [
    "### Prepare test dataset"
   ]
  },
  {
   "cell_type": "code",
   "execution_count": null,
   "metadata": {},
   "outputs": [],
   "source": [
    "data_test.tail()"
   ]
  },
  {
   "cell_type": "code",
   "execution_count": null,
   "metadata": {},
   "outputs": [],
   "source": [
    "data_training.tail(60)"
   ]
  },
  {
   "cell_type": "code",
   "execution_count": null,
   "metadata": {},
   "outputs": [],
   "source": [
    "past_60_days = data_training.tail(60)"
   ]
  },
  {
   "cell_type": "code",
   "execution_count": null,
   "metadata": {},
   "outputs": [],
   "source": [
    "df = past_60_days.append(data_test, ignore_index = True)\n",
    "df = df.drop(['date', 'adjclose'], axis = 1)\n",
    "df.head()"
   ]
  },
  {
   "cell_type": "code",
   "execution_count": null,
   "metadata": {},
   "outputs": [],
   "source": [
    "inputs = scaler.transform(df)\n",
    "inputs"
   ]
  },
  {
   "cell_type": "code",
   "execution_count": null,
   "metadata": {},
   "outputs": [],
   "source": [
    "x_test = []\n",
    "y_test = []\n",
    "\n",
    "for i in range(60, inputs.shape[0]):\n",
    "    x_test.append(inputs[i-60:i])\n",
    "    y_test.append(inputs[i, 0])"
   ]
  },
  {
   "cell_type": "code",
   "execution_count": null,
   "metadata": {},
   "outputs": [],
   "source": [
    "x_test, y_test = np.array(x_test),np.array(y_test)\n",
    "x_test.shape, y_test.shape"
   ]
  },
  {
   "cell_type": "code",
   "execution_count": null,
   "metadata": {},
   "outputs": [],
   "source": [
    "y_pred = regressior.predict(x_test)"
   ]
  },
  {
   "cell_type": "code",
   "execution_count": null,
   "metadata": {},
   "outputs": [],
   "source": [
    "my_scale = scaler.scale_\n",
    "my_scale[0]"
   ]
  },
  {
   "cell_type": "code",
   "execution_count": null,
   "metadata": {},
   "outputs": [],
   "source": [
    "scale = 1/my_scale[0]\n",
    "scale"
   ]
  },
  {
   "cell_type": "code",
   "execution_count": null,
   "metadata": {},
   "outputs": [],
   "source": [
    "y_pred = y_pred*scale\n",
    "y_test = y_test*scale"
   ]
  },
  {
   "cell_type": "code",
   "execution_count": null,
   "metadata": {},
   "outputs": [],
   "source": [
    "### Visualize Data "
   ]
  },
  {
   "cell_type": "code",
   "execution_count": null,
   "metadata": {},
   "outputs": [],
   "source": [
    "plt.figure(figsize=(20,5))\n",
    "plt.plot(y_test, color = 'red', label = 'Real ' + stock_symbol + ' stock price')\n",
    "plt.plot(y_pred, color = 'blue', label = 'Predicted ' + stock_symbol + ' stock price')\n",
    "plt.title(stock_symbol + ' Prediction Chart 2019')\n",
    "plt.grid(color='y', linestyle='-', linewidth=1)\n",
    "plt.xlabel('Time')\n",
    "plt.ylabel(stock_symbol + ' stock price')\n",
    "plt.legend()\n",
    "plt.show()"
   ]
  },
  {
   "cell_type": "code",
   "execution_count": null,
   "metadata": {},
   "outputs": [],
   "source": []
  },
  {
   "cell_type": "code",
   "execution_count": null,
   "metadata": {},
   "outputs": [],
   "source": []
  },
  {
   "cell_type": "code",
   "execution_count": null,
   "metadata": {},
   "outputs": [],
   "source": []
  },
  {
   "cell_type": "code",
   "execution_count": null,
   "metadata": {},
   "outputs": [],
   "source": []
  },
  {
   "cell_type": "code",
   "execution_count": null,
   "metadata": {},
   "outputs": [],
   "source": []
  }
 ],
 "metadata": {
  "kernelspec": {
   "display_name": "Python 3",
   "language": "python",
   "name": "python3"
  },
  "language_info": {
   "codemirror_mode": {
    "name": "ipython",
    "version": 3
   },
   "file_extension": ".py",
   "mimetype": "text/x-python",
   "name": "python",
   "nbconvert_exporter": "python",
   "pygments_lexer": "ipython3",
   "version": "3.7.3"
  }
 },
 "nbformat": 4,
 "nbformat_minor": 2
}
